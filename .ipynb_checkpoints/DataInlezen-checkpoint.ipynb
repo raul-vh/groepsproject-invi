{
 "cells": [
  {
   "cell_type": "markdown",
   "id": "3f93a5ae",
   "metadata": {},
   "source": [
    "# Table of contents\n",
    "1. Introduction\n",
    "2. Datasets and preprocessing\n",
    "3. Visualisations\n",
    "    - property 1 etc.\n",
    "4. Reflection\n",
    "5. Work distribution\n"
   ]
  },
  {
   "cell_type": "markdown",
   "id": "50ed70bd",
   "metadata": {},
   "source": [
    "# 1. Introduction\n",
    "- Aims and Goals\n",
    "- Take a general audience into network science\n",
    "- explain the multiple perspectives\n",
    "\n",
    "relationships between entities in a network\n",
    "\n",
    "the project is designed so that a person with little knowledge of networks can understand the main features of social networks\n",
    "\n",
    "the project is designed to include a person with little knowledge of networks in understanding properties of networks"
   ]
  },
  {
   "cell_type": "markdown",
   "id": "4cab0d1a",
   "metadata": {},
   "source": [
    "# 2. Datasets and preprocessing\n",
    "This project is based on three different datasets of social networks that can be found on Kaggle.(reffer to links). Each dataset is a representation of a network in the form of a list of edges. To some datasets there is also a file added with node attributes. This file is often a `.json` file. The latest dataset is slightly different from the first two. Unique to this dataset, is the fact that it is a dataset containing multiple datasets of social networks.\n",
    "\n",
    "Before the datasets can be read in, it is necessary to manually select which datasets will and will not be selected for the project. This selection is based on the size of the datasets to reduce the risk of very long processing times. The table below is an overview of all the different networks, retrieved from the datasets, that will be used in this project. For each network, it is given what its node representation is, what its link representation is and what the node attributes are if applicable.\n",
    "\n",
    "|Dataset|Node representation|Link representation|Node attributes if applicable|\n",
    "|---|---|---|---|\n",
    "|**NashvilleMeetupNetwork**|Member of a Meetup group|Shared group membership in 'weight' groups|n/a|\n",
    "|**DeezerHR**|Deezer users from Croatia|The relation friendship|Genre preferences of each user|\n",
    "|**DeezerHU**|Deezer users from Hungary|The relation friendship|Genre preferences of each user|\n",
    "|**DeezerRO**|Deezer users from Romania|The relation friendship|Genre preferences of each user|\n",
    "|**FacebookLargePage**|Official Facebook pages| The amount of mutual likes between pages| Descriptions of the purpose of the site|\n",
    "|**FeatherDeezerSocial**|Deezer users from Europe|The relation friendship|Artists liked by the users|\n",
    "|**FeatherLastfmSocial**|\n",
    "|**GemsecFacebook**|\n",
    "|**GithubSocial**|\n",
    "|**TwitchGames**|\n",
    "|**TwitchSocialNetworks**|\n",
    "\n",
    "Other basic info that is excluded:\n",
    "- Time span of the network\n",
    "- Where the data is retrieved from"
   ]
  },
  {
   "cell_type": "markdown",
   "id": "e848d2f4",
   "metadata": {},
   "source": [
    "## Importing the relevant python libaries"
   ]
  },
  {
   "cell_type": "code",
   "execution_count": 1,
   "id": "0eec1e37",
   "metadata": {},
   "outputs": [],
   "source": [
    "import networkx as nx\n",
    "import pandas as pd\n",
    "import numpy as np\n",
    "import matplotlib.pyplot as plt"
   ]
  },
  {
   "cell_type": "markdown",
   "id": "b6292f0d",
   "metadata": {},
   "source": [
    "## Read in datasets with pandas\n",
    "https://pandas.pydata.org/pandas-docs/stable/reference/api/pandas.read_csv.html"
   ]
  },
  {
   "cell_type": "code",
   "execution_count": 9,
   "id": "f322b4c9",
   "metadata": {},
   "outputs": [
    {
     "ename": "SyntaxError",
     "evalue": "invalid syntax (997943277.py, line 8)",
     "output_type": "error",
     "traceback": [
      "\u001b[0;36m  Cell \u001b[0;32mIn[9], line 8\u001b[0;36m\u001b[0m\n\u001b[0;31m    GemsecFacebook_edges =\u001b[0m\n\u001b[0m                           ^\u001b[0m\n\u001b[0;31mSyntaxError\u001b[0m\u001b[0;31m:\u001b[0m invalid syntax\n"
     ]
    }
   ],
   "source": [
    "NashvilleMeetupNetwork_member_edges = pd.read_csv('datasets/NashvilleMeetupNetwork/member-edges.csv', index_col=0)\n",
    "DeezerHR_edges = pd.read_csv('datasets/DeezerSocialNetworks/HR/HR_edges.csv')\n",
    "DeezerHU_edges = pd.read_csv('datasets/DeezerSocialNetworks/HU/HU_edges.csv')\n",
    "DeezerRO_edges = pd.read_csv('datasets/DeezerSocialNetworks/RO/RO_edges.csv')\n",
    "FacebookLargePage_edges = pd.read_csv('datasets/facebook-large-page-page-network/musae_facebook_edges.csv')\n",
    "FeatherDeezerSocial_edges = pd.read_csv('datasets/feather-deezer-social/deezer_europe_edges.csv')\n",
    "FeatherLastfmSocial_edges = pd.read_csv('datasets/feather-lastfm-social/lastfm_asia_edges.csv')\n",
    "GemsecFacebook_edges = \n",
    "GithubSocial_edges = \n",
    "TwitchGames_edges = \n",
    "TwitchSocialNetworks_edges = "
   ]
  },
  {
   "cell_type": "markdown",
   "id": "17718d6e",
   "metadata": {},
   "source": [
    "## Construct graphs with networkx\n",
    "https://networkx.org/documentation/stable/reference/generated/networkx.convert_matrix.from_pandas_edgelist.html"
   ]
  },
  {
   "cell_type": "code",
   "execution_count": 3,
   "id": "f8f96219",
   "metadata": {},
   "outputs": [],
   "source": [
    "NashvilleMeetupNetwork = nx.from_pandas_edgelist(NashvilleMeetupNetwork_member_edges, 'member1', 'member2', edge_attr='weight', create_using=nx.Graph)\n",
    "DeezerHR = nx.from_pandas_edgelist(DeezerHR_edges, 'node_1', 'node_2', create_using=nx.Graph)\n",
    "DeezerHU = nx.from_pandas_edgelist(DeezerHU_edges, 'node_1', 'node_2', create_using=nx.Graph)\n",
    "DeezerRO = nx.from_pandas_edgelist(DeezerRO_edges, 'node_1', 'node_2', create_using=nx.Graph)\n",
    "FacebookLargePage = nx.from_pandas_edgelist(FacebookLargePage_edges, 'id_1', 'id_2', create_using=nx.Graph)\n",
    "FeatherDeezerSocial = nx.from_pandas_edgelist(FeatherDeezerSocial_edges, 'node_1', 'node_2', create_using=nx.Graph)\n",
    "FeatherLastfmSocial = nx.from_pandas_edgelist(FeatherLastfmSocial_edges, 'node_1', 'node_2', create_using=nx.Graph)\n",
    "GemsecFacebook = \n",
    "GithubSocial = \n",
    "TwitchGames = \n",
    "TwitchSocialNetworks = "
   ]
  },
  {
   "cell_type": "markdown",
   "id": "25257131",
   "metadata": {},
   "source": [
    "# Destriptive statistics of different networks\n",
    "- number of nodes\n",
    "- number of edges\n",
    "- density\n",
    "- connectedness\n",
    "- average clustering coefficient"
   ]
  },
  {
   "cell_type": "code",
   "execution_count": 4,
   "id": "fef625ad",
   "metadata": {},
   "outputs": [],
   "source": [
    "networks = {\n",
    "    'NashvilleMeetupNetwork' : NashvilleMeetupNetwork,\n",
    "    'DeezerHR' : DeezerHR,\n",
    "    'DeezerHU' : DeezerHU,\n",
    "    'DeezerRO' : DeezerRO,\n",
    "    'FacebookLargepage' : FacebookLargePage\n",
    "}"
   ]
  },
  {
   "cell_type": "code",
   "execution_count": 5,
   "id": "9673f1f2",
   "metadata": {},
   "outputs": [
    {
     "data": {
      "text/html": [
       "<div>\n",
       "<style scoped>\n",
       "    .dataframe tbody tr th:only-of-type {\n",
       "        vertical-align: middle;\n",
       "    }\n",
       "\n",
       "    .dataframe tbody tr th {\n",
       "        vertical-align: top;\n",
       "    }\n",
       "\n",
       "    .dataframe thead th {\n",
       "        text-align: right;\n",
       "    }\n",
       "</style>\n",
       "<table border=\"1\" class=\"dataframe\">\n",
       "  <thead>\n",
       "    <tr style=\"text-align: right;\">\n",
       "      <th></th>\n",
       "      <th>number_of_nodes</th>\n",
       "      <th>number_of_edges</th>\n",
       "      <th>density</th>\n",
       "      <th>connected_network</th>\n",
       "      <th>avg_cc</th>\n",
       "    </tr>\n",
       "  </thead>\n",
       "  <tbody>\n",
       "    <tr>\n",
       "      <th>NashvilleMeetupNetwork</th>\n",
       "      <td>11372</td>\n",
       "      <td>1176368</td>\n",
       "      <td>0.018194</td>\n",
       "      <td>True</td>\n",
       "      <td>0.884957</td>\n",
       "    </tr>\n",
       "    <tr>\n",
       "      <th>DeezerHR</th>\n",
       "      <td>54573</td>\n",
       "      <td>498202</td>\n",
       "      <td>0.000335</td>\n",
       "      <td>True</td>\n",
       "      <td>0.136477</td>\n",
       "    </tr>\n",
       "    <tr>\n",
       "      <th>DeezerHU</th>\n",
       "      <td>47538</td>\n",
       "      <td>222887</td>\n",
       "      <td>0.000197</td>\n",
       "      <td>True</td>\n",
       "      <td>0.116187</td>\n",
       "    </tr>\n",
       "    <tr>\n",
       "      <th>DeezerRO</th>\n",
       "      <td>41773</td>\n",
       "      <td>125826</td>\n",
       "      <td>0.000144</td>\n",
       "      <td>True</td>\n",
       "      <td>0.091212</td>\n",
       "    </tr>\n",
       "    <tr>\n",
       "      <th>FacebookLargepage</th>\n",
       "      <td>22470</td>\n",
       "      <td>171002</td>\n",
       "      <td>0.000677</td>\n",
       "      <td>True</td>\n",
       "      <td>0.359738</td>\n",
       "    </tr>\n",
       "  </tbody>\n",
       "</table>\n",
       "</div>"
      ],
      "text/plain": [
       "                       number_of_nodes number_of_edges   density  \\\n",
       "NashvilleMeetupNetwork           11372         1176368  0.018194   \n",
       "DeezerHR                         54573          498202  0.000335   \n",
       "DeezerHU                         47538          222887  0.000197   \n",
       "DeezerRO                         41773          125826  0.000144   \n",
       "FacebookLargepage                22470          171002  0.000677   \n",
       "\n",
       "                       connected_network    avg_cc  \n",
       "NashvilleMeetupNetwork              True  0.884957  \n",
       "DeezerHR                            True  0.136477  \n",
       "DeezerHU                            True  0.116187  \n",
       "DeezerRO                            True  0.091212  \n",
       "FacebookLargepage                   True  0.359738  "
      ]
     },
     "execution_count": 5,
     "metadata": {},
     "output_type": "execute_result"
    }
   ],
   "source": [
    "descriptive_stats = pd.DataFrame(index=list(networks.keys()), columns=['number_of_nodes', 'number_of_edges', 'density', 'connected_network', 'avg_cc'])\n",
    "for name, network in networks.items():\n",
    "    descriptive_stats['number_of_nodes'].loc[name] = nx.number_of_nodes(network)\n",
    "    descriptive_stats['number_of_edges'].loc[name] = nx.number_of_edges(network)\n",
    "    descriptive_stats['density'].loc[name] = nx.density(network)\n",
    "    descriptive_stats['connected_network'].loc[name] = nx.is_connected(network)\n",
    "    descriptive_stats['avg_cc'].loc[name] = nx.average_clustering(network) #Duurt ook lang om te berekenen\n",
    "\n",
    "descriptive_stats"
   ]
  },
  {
   "cell_type": "code",
   "execution_count": null,
   "id": "7a1d3063",
   "metadata": {},
   "outputs": [],
   "source": [
    "# degree_sequence = sorted((d for n, d in DeezerHR.degree()), reverse=True)\n",
    "# dmax = max(degree_sequence)\n",
    "\n",
    "# fig = plt.figure(\"Degree of a random graph\", figsize=(8, 8))\n",
    "# # Create a gridspec for adding subplots of different sizes\n",
    "# axgrid = fig.add_gridspec(5, 4)\n",
    "\n",
    "# ax2 = fig.add_subplot(axgrid[3:, 2:])\n",
    "# ax2.bar(*np.unique(degree_sequence, return_counts=True))\n",
    "# ax2.set_title(\"Degree histogram\")\n",
    "# ax2.set_xlabel(\"Degree\")\n",
    "# ax2.set_ylabel(\"# of Nodes\")\n",
    "\n",
    "# fig.tight_layout()\n",
    "# plt.show()"
   ]
  },
  {
   "cell_type": "code",
   "execution_count": 6,
   "id": "ffacf5ca",
   "metadata": {},
   "outputs": [
    {
     "data": {
      "text/plain": [
       "dict_keys(['NashvilleMeetupNetwork', 'DeezerHR', 'DeezerHU', 'DeezerRO', 'FacebookLargepage'])"
      ]
     },
     "execution_count": 6,
     "metadata": {},
     "output_type": "execute_result"
    }
   ],
   "source": [
    "networks.keys()"
   ]
  },
  {
   "cell_type": "markdown",
   "id": "bd09c27a",
   "metadata": {},
   "source": [
    "# Iedeen over wat we verder nog kunnen zeggen over netwerken\n",
    "- Nodes in larges SCC\n",
    "- Average clustering coefficient\n",
    "- Number of triangles\n",
    "- fraction of closed triangles\n",
    "- Diameter (longest shortest path) In order to say something about small world property.\n",
    "- Relationship between network density and diameter, average cc, etc."
   ]
  },
  {
   "cell_type": "markdown",
   "id": "580fadf7",
   "metadata": {},
   "source": [
    "## Oude tekst bij datasets and preprocessing\n",
    "\n",
    "### 1. Nashville Meetup Network\n",
    "https://www.kaggle.com/datasets/stkbailey/nashville-meetup?select=rsvps.csv\n",
    "\n",
    "Dataset about who goes to what meetups. From these relations a social network can be constructed.\n",
    "\n",
    "- `member-to-group-edges.csv`: Edge list for constructing a member-to-group bipartite graph. Weights represent number of events attended in each group.\n",
    "- `group-edges.csv`: Edge list for constructing a group-to-group graph. Weights represent shared members between groups.\n",
    "- `member-edges.csv`: Edge list for constructing a member-to-member graph. Weights represent shared group membership.\n",
    "- `rsvps.csv`: Raw member-to-event attendance data, which was aggregated to form member-to-group-edges.csv.\n",
    "\n",
    "In short the relations mean:\n",
    "- `member-to-group-edges`: member is part of group and has attended 'weight' events in this group\n",
    "- `group-edges`: group A has 'weight' shared members with group B\n",
    "- `member-edges`: member A attented in 'weight' events with member B\n",
    "\n",
    "### 2. Deezer Social Networks\n",
    "https://www.kaggle.com/datasets/andreagarritano/deezer-social-networks\n",
    "\n",
    "Dataset about friendship networks of users on Deezer in three European countries: Romania, Croatia and Hungary. The edges represent the relationship 'friendship'. Since this data is from three countries, it are basicly three different networks. (There is also a json file which contains properties of a node, namely its genre preferences.)\n",
    "\n",
    "### 3. Facebook Large Page Page Network\n",
    "https://www.kaggle.com/datasets/wolfram77/graphs-social?select=feather-lastfm-social\n",
    "\n",
    "This is a webgraph of verified Facebook sites. The nodes represent official facebook pages. The edges represent mutual likes between the sites. (There is also a json file which contains properties of a node, namely its genre preferences.) This graph was collected through the Facebook Graph API in November 2017 and restricted to pages from 4 categories which are defined by Facebook. These categories are: politicians, governmental organizations, television shows and companies.\n",
    "\n",
    "# datasets die we nog kunnen toevoegen:\n",
    "- feather-deezer-social\n",
    "- feather-lastfm-social\n",
    "- gemsec-Facebook\n",
    "- github-social\n",
    "- twitch_games\n",
    "- twitch-social-networks\n",
    "\n",
    "# datasets die we kunnen toevoegen met wat preprocessing\n",
    "De edges staan namelijk opgeslagen als txt file en niet als csv file. Dat betekent dat je niet gelijk met pandas read_csv kan toepassen maar eerst de commas(comma seperated values) aan de file moet toevoegen.\n",
    "- soc-Epinions1.txt\n",
    "- soc-sign-Slashdot081106.txt\n",
    "- soc-sign-Slashdot090216.txt\n",
    "- soc-sign-Slashdot090221.txt\n",
    "- soc-Slashdot0811.txt\n",
    "- soc-Slashdot0902.txt\n",
    "\n",
    "\n",
    "dit is een extra test\n"
   ]
  },
  {
   "cell_type": "code",
   "execution_count": null,
   "id": "f2c22ac3",
   "metadata": {},
   "outputs": [],
   "source": []
  }
 ],
 "metadata": {
  "kernelspec": {
   "display_name": "Python 3 (ipykernel)",
   "language": "python",
   "name": "python3"
  },
  "language_info": {
   "codemirror_mode": {
    "name": "ipython",
    "version": 3
   },
   "file_extension": ".py",
   "mimetype": "text/x-python",
   "name": "python",
   "nbconvert_exporter": "python",
   "pygments_lexer": "ipython3",
   "version": "3.11.3"
  }
 },
 "nbformat": 4,
 "nbformat_minor": 5
}
